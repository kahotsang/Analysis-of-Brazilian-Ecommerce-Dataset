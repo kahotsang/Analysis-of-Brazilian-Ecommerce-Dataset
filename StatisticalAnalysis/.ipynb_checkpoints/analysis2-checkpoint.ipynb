{
 "cells": [
  {
   "cell_type": "markdown",
   "metadata": {},
   "source": [
    "## Objective\n",
    "\n",
    "To analyze the second-level effect, on how the location of customer city affects the delivery time\n",
    "\n",
    "Modeling: multi-level GLMM (with the use of some location features of customer cities as the second-level features).\n",
    "This model is then compared with the base model (GLMM as proposed in analysis1)."
   ]
  },
  {
   "cell_type": "code",
   "execution_count": 1,
   "metadata": {},
   "outputs": [
    {
     "name": "stderr",
     "output_type": "stream",
     "text": [
      "Loading required package: coda\n",
      "Loading required package: boot\n",
      "Parsed with column specification:\n",
      "cols(\n",
      "  size = col_double(),\n",
      "  order_products_value = col_double(),\n",
      "  order_freight_value = col_double(),\n",
      "  distance = col_double(),\n",
      "  cluster = col_integer(),\n",
      "  customer_state = col_character(),\n",
      "  customer_city = col_character(),\n",
      "  delivery_time = col_double()\n",
      ")\n"
     ]
    }
   ],
   "source": [
    "library(R2WinBUGS)\n",
    "library(readr)\n",
    "\n",
    "#The directory of the WinBUGS\n",
    "WinBUGS_path = \"C:/Users/s1155063404/Downloads/WinBUGS14/\"\n",
    "\n",
    "#Working directory\n",
    "working_dir = \"C:/Users/s1155063404/Desktop/Projects/brazilian-ecommerce-dataset/StatisticalAnalysis\"\n",
    "\n",
    "setwd(working_dir)\n",
    "dataset = read_csv(\"./dataset.csv\")\n",
    "\n",
    "#Standardize the observations for modeling\n",
    "standardize <- function(x){\n",
    "  mean_x = mean(x)\n",
    "  sig_x = sqrt(var(x))\n",
    "  if (sig_x > 0){\n",
    "    return((x - mean_x) / sig_x)\n",
    "  }\n",
    "  else {\n",
    "    return(x)\n",
    "  }\n",
    "}\n",
    "\n",
    "dataset$size = standardize(dataset$size)\n",
    "dataset$order_products_value = standardize(dataset$order_products_value)\n",
    "dataset$order_freight_value = standardize(dataset$order_freight_value)\n",
    "dataset$distance = standardize(dataset$distance)"
   ]
  },
  {
   "cell_type": "markdown",
   "metadata": {},
   "source": [
    "As I perform Bayesian Inference for the multi-level model, to have a fair comparison with the base model, I first perform Bayesian Inference for the base model."
   ]
  },
  {
   "cell_type": "code",
   "execution_count": 2,
   "metadata": {},
   "outputs": [
    {
     "data": {
      "text/html": [
       "'data_base.txt'"
      ],
      "text/latex": [
       "'data\\_base.txt'"
      ],
      "text/markdown": [
       "'data_base.txt'"
      ],
      "text/plain": [
       "[1] \"data_base.txt\""
      ]
     },
     "metadata": {},
     "output_type": "display_data"
    }
   ],
   "source": [
    "#Base model: Prepare the data, initial parameter for WinBUGS\n",
    "K = nrow(dataset)\n",
    "n_clust = length(unique(dataset$cluster))\n",
    "Y = dataset$delivery_time\n",
    "X = cbind(dataset$size, dataset$order_products_value, dataset$order_freight_value)\n",
    "Z = dataset$distance\n",
    "i = dataset$cluster\n",
    "\n",
    "mu_b = rep(0, 3)\n",
    "tau_b = diag(rep(0.0001, 3))\n",
    "\n",
    "data = list(K=K, n_clust=n_clust, Y=Y, X=X, Z=Z, mu_b=mu_b, tau_b=tau_b, i=i)\n",
    "bugs.data(data, dir=\"../WinBUGS_code/\", data.file = \"data_base.txt\")\n",
    "\n",
    "init = list(beta=rep(0,3), m1=0, m2=0, tau_a=10, tau_u=10, b=0.5)\n",
    "para = c(\"m1\", \"beta\", \"m2\", \"sig_u\", \"sig_a\", \"b\")"
   ]
  },
  {
   "cell_type": "code",
   "execution_count": null,
   "metadata": {},
   "outputs": [],
   "source": [
    "#Run WinBUGS for Bayesian Inference\n",
    "sim = bugs(data=\"data_base.txt\", inits=list(init),\n",
    "           parameters.to.save=para,\n",
    "           model.file=\"base.txt\",\n",
    "           n.chains=1, n.iter=1000,\n",
    "           bugs.directory = WinBUGS_path,\n",
    "           working.directory=\"../WinBUGS_code/\")\n",
    "save(sim, file=\"sim_base.RData\")"
   ]
  },
  {
   "cell_type": "code",
   "execution_count": null,
   "metadata": {},
   "outputs": [],
   "source": [
    "sim\n",
    "\n",
    "round(cbind(sim$mean, sim$sd), digits=3)"
   ]
  },
  {
   "cell_type": "code",
   "execution_count": null,
   "metadata": {},
   "outputs": [],
   "source": []
  },
  {
   "cell_type": "code",
   "execution_count": null,
   "metadata": {},
   "outputs": [],
   "source": []
  }
 ],
 "metadata": {
  "kernelspec": {
   "display_name": "R",
   "language": "R",
   "name": "ir"
  },
  "language_info": {
   "codemirror_mode": "r",
   "file_extension": ".r",
   "mimetype": "text/x-r-source",
   "name": "R",
   "pygments_lexer": "r",
   "version": "3.5.1"
  }
 },
 "nbformat": 4,
 "nbformat_minor": 2
}
