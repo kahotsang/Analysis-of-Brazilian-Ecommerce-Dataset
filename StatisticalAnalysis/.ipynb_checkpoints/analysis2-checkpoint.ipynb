{
 "cells": [
  {
   "cell_type": "markdown",
   "metadata": {},
   "source": [
    "## Objective\n",
    "\n",
    "To analyze the second-level effect, on how the location of customer city affects the delivery time\n",
    "\n",
    "Modeling: multi-level GLMM (with the use of some location features of customer cities as the second-level features).\n",
    "This model is then compared with the base model (GLMM as proposed in analysis1)."
   ]
  },
  {
   "cell_type": "code",
   "execution_count": 7,
   "metadata": {},
   "outputs": [
    {
     "name": "stderr",
     "output_type": "stream",
     "text": [
      "Parsed with column specification:\n",
      "cols(\n",
      "  size = col_double(),\n",
      "  order_products_value = col_double(),\n",
      "  order_freight_value = col_double(),\n",
      "  distance = col_double(),\n",
      "  cluster = col_integer(),\n",
      "  customer_state = col_character(),\n",
      "  customer_city = col_character(),\n",
      "  delivery_time = col_double()\n",
      ")\n"
     ]
    }
   ],
   "source": [
    "library(R2WinBUGS)\n",
    "library(dplyr)\n",
    "library(readr)\n",
    "\n",
    "#The directory of the WinBUGS\n",
    "WinBUGS_path = \"C:/Users/s1155063404/Desktop/WinBUGS14\"\n",
    "\n",
    "#Working directory\n",
    "working_dir = \"C:/Users/s1155063404/Desktop/Projects/brazilian-ecommerce-dataset/StatisticalAnalysis\"\n",
    "\n",
    "setwd(working_dir)\n",
    "dataset = read_csv(\"./dataset.csv\")\n",
    "\n",
    "#Standardize the observations for modeling\n",
    "standardize <- function(x){\n",
    "  mean_x = mean(x)\n",
    "  sig_x = sqrt(var(x))\n",
    "  if (sig_x > 0){\n",
    "    return((x - mean_x) / sig_x)\n",
    "  }\n",
    "  else {\n",
    "    return(x)\n",
    "  }\n",
    "}\n",
    "\n",
    "dataset$size = standardize(dataset$size)\n",
    "dataset$order_products_value = standardize(dataset$order_products_value)\n",
    "dataset$order_freight_value = standardize(dataset$order_freight_value)\n",
    "dataset$distance = standardize(dataset$distance)"
   ]
  },
  {
   "cell_type": "markdown",
   "metadata": {},
   "source": [
    "As I perform Bayesian Inference for the multi-level model, to have a fair comparison with the base model, I first perform Bayesian Inference for the base model. I use WinBUGS for Bayesian Inference, and I need to prepare the data and initial parameters for the WinBUGS program."
   ]
  },
  {
   "cell_type": "code",
   "execution_count": 2,
   "metadata": {},
   "outputs": [
    {
     "data": {
      "text/html": [
       "'data_base.txt'"
      ],
      "text/latex": [
       "'data\\_base.txt'"
      ],
      "text/markdown": [
       "'data_base.txt'"
      ],
      "text/plain": [
       "[1] \"data_base.txt\""
      ]
     },
     "metadata": {},
     "output_type": "display_data"
    }
   ],
   "source": [
    "#Base model: Prepare the data, initial parameter for WinBUGS\n",
    "K = nrow(dataset)\n",
    "n_clust = length(unique(dataset$cluster))\n",
    "Y = dataset$delivery_time\n",
    "X = cbind(dataset$size, dataset$order_products_value, dataset$order_freight_value)\n",
    "Z = dataset$distance\n",
    "i = dataset$cluster\n",
    "\n",
    "mu_b = rep(0, 3)\n",
    "tau_b = diag(rep(0.0001, 3))\n",
    "\n",
    "data = list(K=K, n_clust=n_clust, Y=Y, X=X, Z=Z, mu_b=mu_b, tau_b=tau_b, i=i)\n",
    "bugs.data(data, dir=\"../WinBUGS_code/\", data.file = \"data_base.txt\")\n",
    "\n",
    "init = list(beta=rep(0,3), m1=0, m2=0, tau_a=10, tau_u=10, b=0.5)\n",
    "para = c(\"m1\", \"beta\", \"m2\", \"sig_u\", \"sig_a\", \"b\")"
   ]
  },
  {
   "cell_type": "code",
   "execution_count": 3,
   "metadata": {},
   "outputs": [],
   "source": [
    "#Run WinBUGS for Bayesian Inference\n",
    "sim = bugs(data=\"data_base.txt\", inits=list(init),\n",
    "           parameters.to.save=para,\n",
    "           model.file=\"base.txt\",\n",
    "           n.chains=1, n.iter=1000,\n",
    "           bugs.directory = WinBUGS_path,\n",
    "           working.directory=\"../WinBUGS_code/\")"
   ]
  },
  {
   "cell_type": "code",
   "execution_count": 4,
   "metadata": {},
   "outputs": [
    {
     "data": {
      "text/plain": [
       "Inference for Bugs model at \"base.txt\", fit using WinBUGS,\n",
       " 1 chains, each with 1000 iterations (first 500 discarded)\n",
       " n.sims = 500 iterations saved\n",
       "             mean     sd     2.5%      25%      50%      75%    97.5%\n",
       "m1            2.6    0.0      2.6      2.6      2.6      2.6      2.6\n",
       "beta[1]       0.0    0.0      0.0      0.0      0.0      0.0      0.0\n",
       "beta[2]       0.0    0.0      0.0      0.0      0.0      0.0      0.0\n",
       "beta[3]       0.0    0.0      0.0      0.0      0.0      0.0      0.0\n",
       "m2            0.2    0.0      0.2      0.2      0.2      0.2      0.2\n",
       "sig_u         0.1    0.0      0.1      0.1      0.1      0.1      0.1\n",
       "sig_a         0.1    0.0      0.1      0.1      0.1      0.1      0.1\n",
       "b             0.3    0.0      0.3      0.3      0.3      0.3      0.3\n",
       "deviance 608231.8 1667.6 607300.0 607500.0 607500.0 607800.0 613910.0\n",
       "\n",
       "DIC info (using the rule, pD = var(deviance)/2)\n",
       "pD = 1390445.3 and DIC = 1998677.1\n",
       "DIC is an estimate of expected predictive error (lower deviance is better)."
      ]
     },
     "metadata": {},
     "output_type": "display_data"
    },
    {
     "data": {
      "text/html": [
       "<table>\n",
       "<caption>A matrix: 7 × 2</caption>\n",
       "<tbody>\n",
       "\t<tr><th scope=row>m1</th><td>2.596314</td><td>0.00372063</td></tr>\n",
       "\t<tr><th scope=row>beta</th><td>0.041022440, -0.004176734, 0.009921578</td><td>0.002223249, 0.002369514, 0.002146022</td></tr>\n",
       "\t<tr><th scope=row>m2</th><td>0.1972662</td><td>0.00303239</td></tr>\n",
       "\t<tr><th scope=row>sig_u</th><td>0.12124</td><td>0.008267371</td></tr>\n",
       "\t<tr><th scope=row>sig_a</th><td>0.09031932</td><td>0.007283062</td></tr>\n",
       "\t<tr><th scope=row>b</th><td>0.2775242</td><td>0.00330493</td></tr>\n",
       "\t<tr><th scope=row>deviance</th><td>608231.8</td><td>1667.6</td></tr>\n",
       "</tbody>\n",
       "</table>\n"
      ],
      "text/latex": [
       "A matrix: 7 × 2\n",
       "\\begin{tabular}{r|ll}\n",
       "\tm1 & 2.596314 & 0.00372063\\\\\n",
       "\tbeta & 0.041022440, -0.004176734, 0.009921578 & 0.002223249, 0.002369514, 0.002146022\\\\\n",
       "\tm2 & 0.1972662 & 0.00303239\\\\\n",
       "\tsig\\_u & 0.12124 & 0.008267371\\\\\n",
       "\tsig\\_a & 0.09031932 & 0.007283062\\\\\n",
       "\tb & 0.2775242 & 0.00330493\\\\\n",
       "\tdeviance & 608231.8 & 1667.6\\\\\n",
       "\\end{tabular}\n"
      ],
      "text/markdown": [
       "\n",
       "A matrix: 7 × 2\n",
       "\n",
       "| m1 | 2.596314 | 0.00372063 |\n",
       "| beta | 0.041022440, -0.004176734, 0.009921578 | 0.002223249, 0.002369514, 0.002146022 |\n",
       "| m2 | 0.1972662 | 0.00303239 |\n",
       "| sig_u | 0.12124 | 0.008267371 |\n",
       "| sig_a | 0.09031932 | 0.007283062 |\n",
       "| b | 0.2775242 | 0.00330493 |\n",
       "| deviance | 608231.8 | 1667.6 |\n",
       "\n"
      ],
      "text/plain": [
       "         [,1]                                  \n",
       "m1       2.596314                              \n",
       "beta     0.041022440, -0.004176734, 0.009921578\n",
       "m2       0.1972662                             \n",
       "sig_u    0.12124                               \n",
       "sig_a    0.09031932                            \n",
       "b        0.2775242                             \n",
       "deviance 608231.8                              \n",
       "         [,2]                                 \n",
       "m1       0.00372063                           \n",
       "beta     0.002223249, 0.002369514, 0.002146022\n",
       "m2       0.00303239                           \n",
       "sig_u    0.008267371                          \n",
       "sig_a    0.007283062                          \n",
       "b        0.00330493                           \n",
       "deviance 1667.6                               "
      ]
     },
     "metadata": {},
     "output_type": "display_data"
    }
   ],
   "source": [
    "sim\n",
    "\n",
    "cbind(sim$mean, sim$sd)"
   ]
  },
  {
   "cell_type": "markdown",
   "metadata": {},
   "source": [
    "## Feature Engineering (II):\n",
    "\n",
    "Create second-level features for explaining the effects across customer cities. The second-level features are corresponding to each (state, city), thus I construct the following cluster table to store the features."
   ]
  },
  {
   "cell_type": "code",
   "execution_count": 13,
   "metadata": {},
   "outputs": [],
   "source": [
    "#Return the cluster label for each (state, city); Create the second-level features in this table.\n",
    "cluster = dataset %>%\n",
    "  group_by(customer_state, customer_city, cluster) %>%\n",
    "  summarize(n = n()) %>%\n",
    "  arrange(cluster)"
   ]
  },
  {
   "cell_type": "markdown",
   "metadata": {},
   "source": [
    "I first compute the GDP rank for each underlying state to reflect the prosperity of city. The reason of not using GDP figure for each city is that, I cannot collect the GDP data for each single city (where the collected official data only gives the GDP figure of the top 100 cities). Thus, I use the GDP figure of the underlying state to reflect the prosperity effect, though it may not be the most appropriate figure. \n",
    "\n",
    "Moreover, I use the GDP rank instead of the GDP value because the scale of the GDP value of each state is vastly different."
   ]
  },
  {
   "cell_type": "code",
   "execution_count": 14,
   "metadata": {},
   "outputs": [
    {
     "name": "stderr",
     "output_type": "stream",
     "text": [
      "Parsed with column specification:\n",
      "cols(\n",
      "  Abbreviation = col_character(),\n",
      "  State = col_character(),\n",
      "  Capital = col_character(),\n",
      "  Region = col_character(),\n",
      "  GDP = col_character(),\n",
      "  GDP_per_capita = col_double(),\n",
      "  Capital_in_data = col_character()\n",
      ")\n"
     ]
    }
   ],
   "source": [
    "raw_GDP_state = read_csv(\"../CleanedDataset/GDP_by_state_2015.csv\")\n",
    "\n",
    "GDP_state = raw_GDP_state %>%\n",
    "  mutate(customer_state = Abbreviation) %>%\n",
    "  select(customer_state, GDP_per_capita) %>%\n",
    "  arrange(-GDP_per_capita)\n",
    "GDP_state$rank = 1:nrow(GDP_state)\n",
    "\n",
    "cluster = cluster %>%\n",
    "  left_join(GDP_state, by=\"customer_state\")"
   ]
  },
  {
   "cell_type": "markdown",
   "metadata": {},
   "source": [
    "I then compute the geolocation features of each city. I am interested in the latitude of the city, and the distance of the city to the most wealthy cities. I first estimate the location of each city."
   ]
  },
  {
   "cell_type": "code",
   "execution_count": 15,
   "metadata": {},
   "outputs": [
    {
     "name": "stderr",
     "output_type": "stream",
     "text": [
      "Parsed with column specification:\n",
      "cols(\n",
      "  zip_code_prefix = col_integer(),\n",
      "  city = col_character(),\n",
      "  state = col_character(),\n",
      "  lat = col_double(),\n",
      "  lng = col_double()\n",
      ")\n"
     ]
    }
   ],
   "source": [
    "raw_geolocation = read_csv(\"../CleanedDataset/corrected_geolocation.csv\")\n",
    "\n",
    "#geolocation of each city, state\n",
    "geolocation = raw_geolocation %>%\n",
    "  group_by(city, state) %>%\n",
    "  summarize(lat = mean(lat),\n",
    "            lng = mean(lng)) %>%\n",
    "  ungroup() %>%\n",
    "  mutate(customer_city = city,\n",
    "         customer_state = toupper(state))"
   ]
  },
  {
   "cell_type": "markdown",
   "metadata": {},
   "source": [
    "Then I compute the distance to closest 3 wealthy cities."
   ]
  },
  {
   "cell_type": "code",
   "execution_count": 16,
   "metadata": {},
   "outputs": [
    {
     "data": {
      "text/html": [
       "<table>\n",
       "<caption>A tibble: 6 × 8</caption>\n",
       "<thead>\n",
       "\t<tr><th scope=col>customer_state</th><th scope=col>customer_city</th><th scope=col>cluster</th><th scope=col>n</th><th scope=col>GDP_per_capita</th><th scope=col>rank</th><th scope=col>distance2wealthy</th><th scope=col>lat</th></tr>\n",
       "\t<tr><th scope=col>&lt;chr&gt;</th><th scope=col>&lt;chr&gt;</th><th scope=col>&lt;int&gt;</th><th scope=col>&lt;int&gt;</th><th scope=col>&lt;dbl&gt;</th><th scope=col>&lt;int&gt;</th><th scope=col>&lt;dbl&gt;</th><th scope=col>&lt;dbl&gt;</th></tr>\n",
       "</thead>\n",
       "<tbody>\n",
       "\t<tr><td>MG</td><td>abadia dos dourados</td><td>1</td><td> 4</td><td>24884.94</td><td>11</td><td> 302.4037</td><td>-18.484990</td></tr>\n",
       "\t<tr><td>GO</td><td>abadiania          </td><td>2</td><td> 2</td><td>26265.32</td><td>10</td><td>  89.2244</td><td>-16.193984</td></tr>\n",
       "\t<tr><td>MG</td><td>abaete             </td><td>3</td><td>11</td><td>24884.94</td><td>11</td><td> 457.6677</td><td>-19.158859</td></tr>\n",
       "\t<tr><td>PA</td><td>abaetetuba         </td><td>4</td><td>11</td><td>16009.98</td><td>22</td><td>1570.7397</td><td> -1.722619</td></tr>\n",
       "\t<tr><td>CE</td><td>abaiara            </td><td>5</td><td> 1</td><td>14669.14</td><td>23</td><td>1351.5483</td><td> -7.361616</td></tr>\n",
       "\t<tr><td>BA</td><td>abaira             </td><td>6</td><td> 1</td><td>16115.89</td><td>21</td><td> 736.3914</td><td>-13.250568</td></tr>\n",
       "</tbody>\n",
       "</table>\n"
      ],
      "text/latex": [
       "A tibble: 6 × 8\n",
       "\\begin{tabular}{r|llllllll}\n",
       " customer\\_state & customer\\_city & cluster & n & GDP\\_per\\_capita & rank & distance2wealthy & lat\\\\\n",
       " <chr> & <chr> & <int> & <int> & <dbl> & <int> & <dbl> & <dbl>\\\\\n",
       "\\hline\n",
       "\t MG & abadia dos dourados & 1 &  4 & 24884.94 & 11 &  302.4037 & -18.484990\\\\\n",
       "\t GO & abadiania           & 2 &  2 & 26265.32 & 10 &   89.2244 & -16.193984\\\\\n",
       "\t MG & abaete              & 3 & 11 & 24884.94 & 11 &  457.6677 & -19.158859\\\\\n",
       "\t PA & abaetetuba          & 4 & 11 & 16009.98 & 22 & 1570.7397 &  -1.722619\\\\\n",
       "\t CE & abaiara             & 5 &  1 & 14669.14 & 23 & 1351.5483 &  -7.361616\\\\\n",
       "\t BA & abaira              & 6 &  1 & 16115.89 & 21 &  736.3914 & -13.250568\\\\\n",
       "\\end{tabular}\n"
      ],
      "text/markdown": [
       "\n",
       "A tibble: 6 × 8\n",
       "\n",
       "| customer_state &lt;chr&gt; | customer_city &lt;chr&gt; | cluster &lt;int&gt; | n &lt;int&gt; | GDP_per_capita &lt;dbl&gt; | rank &lt;int&gt; | distance2wealthy &lt;dbl&gt; | lat &lt;dbl&gt; |\n",
       "|---|---|---|---|---|---|---|---|\n",
       "| MG | abadia dos dourados | 1 |  4 | 24884.94 | 11 |  302.4037 | -18.484990 |\n",
       "| GO | abadiania           | 2 |  2 | 26265.32 | 10 |   89.2244 | -16.193984 |\n",
       "| MG | abaete              | 3 | 11 | 24884.94 | 11 |  457.6677 | -19.158859 |\n",
       "| PA | abaetetuba          | 4 | 11 | 16009.98 | 22 | 1570.7397 |  -1.722619 |\n",
       "| CE | abaiara             | 5 |  1 | 14669.14 | 23 | 1351.5483 |  -7.361616 |\n",
       "| BA | abaira              | 6 |  1 | 16115.89 | 21 |  736.3914 | -13.250568 |\n",
       "\n"
      ],
      "text/plain": [
       "  customer_state customer_city       cluster n  GDP_per_capita rank\n",
       "1 MG             abadia dos dourados 1        4 24884.94       11  \n",
       "2 GO             abadiania           2        2 26265.32       10  \n",
       "3 MG             abaete              3       11 24884.94       11  \n",
       "4 PA             abaetetuba          4       11 16009.98       22  \n",
       "5 CE             abaiara             5        1 14669.14       23  \n",
       "6 BA             abaira              6        1 16115.89       21  \n",
       "  distance2wealthy lat       \n",
       "1  302.4037        -18.484990\n",
       "2   89.2244        -16.193984\n",
       "3  457.6677        -19.158859\n",
       "4 1570.7397         -1.722619\n",
       "5 1351.5483         -7.361616\n",
       "6  736.3914        -13.250568"
      ]
     },
     "metadata": {},
     "output_type": "display_data"
    }
   ],
   "source": [
    "distance <- function(lat1, lng1, lat2, lng2){\n",
    "  R = 6371 #Radius of Earth in km\n",
    "  dang = sin(lat1) * sin(lat2) + cos(lat1) * cos(lat2) * cos(lng2 - lng1)\n",
    "  return(R * acos(pmax(pmin(dang, 1), -1)))\n",
    "}\n",
    "ang2rad <- function(ang){\n",
    "  return(ang * pi / 180)\n",
    "}\n",
    "\n",
    "#Location of the 3 wealthy cities\n",
    "location = geolocation %>%\n",
    "  filter(city == \"brasilia\" & state == \"df\" |\n",
    "           city == \"sao paulo\" & state == \"sp\" |\n",
    "           city == \"rio de janeiro\" & state == \"rj\")\n",
    "\n",
    "geolocation = geolocation %>%\n",
    "  mutate(distance1 = distance(ang2rad(lat), ang2rad(lng),\n",
    "                              ang2rad(as.numeric(location[1,3])), ang2rad(as.numeric(location[1,4]))),\n",
    "         distance2 = distance(ang2rad(lat), ang2rad(lng),\n",
    "                              ang2rad(as.numeric(location[2,3])), ang2rad(as.numeric(location[2,4]))),\n",
    "         distance3 = distance(ang2rad(lat), ang2rad(lng),\n",
    "                              ang2rad(as.numeric(location[3,3])), ang2rad(as.numeric(location[3,4])))) %>%\n",
    "  mutate(distance2wealthy = pmin(distance1, distance2, distance3),\n",
    "         distance1 = NULL,\n",
    "         distance2 = NULL,\n",
    "         distance3 = NULL)\n",
    "\n",
    "#Add the geolocation features to the cluster table\n",
    "cluster = cluster %>%\n",
    "  left_join(geolocation %>%\n",
    "              select(customer_state, customer_city, distance2wealthy, lat), by=c(\"customer_state\", \"customer_city\"))\n",
    "\n",
    "head(cluster)"
   ]
  },
  {
   "cell_type": "markdown",
   "metadata": {},
   "source": [
    "Then I used the extracted features to build my multi-level model, using GLMM with Bayesian Inference. The procedure is similar as estimating the base model as above."
   ]
  },
  {
   "cell_type": "code",
   "execution_count": 17,
   "metadata": {},
   "outputs": [
    {
     "data": {
      "text/html": [
       "'data_model.txt'"
      ],
      "text/latex": [
       "'data\\_model.txt'"
      ],
      "text/markdown": [
       "'data_model.txt'"
      ],
      "text/plain": [
       "[1] \"data_model.txt\""
      ]
     },
     "metadata": {},
     "output_type": "display_data"
    }
   ],
   "source": [
    "#Prepare the data\n",
    "K = nrow(dataset)\n",
    "n_clust = nrow(cluster)\n",
    "Y = dataset$delivery_time\n",
    "X = cbind(dataset$size, dataset$order_products_value, dataset$order_freight_value)\n",
    "Z = dataset$distance\n",
    "i = dataset$cluster\n",
    "\n",
    "#Cluster_level features\n",
    "W1 = standardize(cluster$rank)\n",
    "W2 = standardize(cluster$lat)\n",
    "W3 = standardize(cluster$distance2wealthy)\n",
    "\n",
    "mu_b = rep(0, 3)\n",
    "tau_b = diag(rep(0.0001, 3))\n",
    "mu_nu = rep(0, 4)\n",
    "tau_nu = diag(rep(0.0001, 4))\n",
    "\n",
    "data = list(K=K, n_clust=n_clust, Y=Y, X=X, Z=Z, mu_b=mu_b, tau_b=tau_b, mu_nu=mu_nu, tau_nu=tau_nu,\n",
    "            i=i, W1=W1, W2=W2, W3=W3)\n",
    "bugs.data(data, dir=\"../WinBUGS_code/\", data.file = \"data_model.txt\")\n",
    "\n",
    "init = list(beta=rep(0,3), nu1=rep(0,4), nu2=rep(0,4), tau_a=10, tau_u=10, b=0.5)\n",
    "para = c(\"beta\", \"nu1\", \"nu2\", \"sig_u\", \"sig_a\", \"b\")"
   ]
  },
  {
   "cell_type": "code",
   "execution_count": 18,
   "metadata": {},
   "outputs": [],
   "source": [
    "sim = bugs(data=\"data_model.txt\", inits=list(init),\n",
    "           parameters.to.save=para,\n",
    "           model.file=\"model.txt\",\n",
    "           n.chains=1, n.iter=1000,\n",
    "           bugs.directory=WinBUGS_path,\n",
    "           working.directory=\"../WinBUGS_code/\")"
   ]
  },
  {
   "cell_type": "code",
   "execution_count": 19,
   "metadata": {},
   "outputs": [
    {
     "data": {
      "text/plain": [
       "Inference for Bugs model at \"model.txt\", fit using WinBUGS,\n",
       " 1 chains, each with 1000 iterations (first 500 discarded)\n",
       " n.sims = 500 iterations saved\n",
       "             mean    sd     2.5%      25%      50%      75%    97.5%\n",
       "beta[1]       0.0   0.0      0.0      0.0      0.0      0.0      0.0\n",
       "beta[2]       0.0   0.0      0.0      0.0      0.0      0.0      0.0\n",
       "beta[3]       0.0   0.0      0.0      0.0      0.0      0.0      0.0\n",
       "nu1[1]        2.6   0.0      2.5      2.6      2.6      2.6      2.6\n",
       "nu1[2]        0.1   0.0      0.1      0.1      0.1      0.1      0.2\n",
       "nu1[3]       -0.1   0.0     -0.2     -0.1     -0.1     -0.1     -0.1\n",
       "nu1[4]        0.0   0.0     -0.1     -0.1      0.0      0.0      0.0\n",
       "nu2[1]        0.2   0.0      0.2      0.2      0.2      0.2      0.3\n",
       "nu2[2]        0.0   0.0     -0.1      0.0      0.0      0.0      0.0\n",
       "nu2[3]        0.0   0.0      0.0      0.0      0.0      0.0      0.1\n",
       "nu2[4]        0.0   0.0      0.0      0.0      0.0      0.0      0.0\n",
       "sig_u         0.1   0.0      0.1      0.1      0.1      0.1      0.1\n",
       "sig_a         0.1   0.0      0.1      0.1      0.1      0.1      0.1\n",
       "b             0.3   0.0      0.3      0.3      0.3      0.3      0.3\n",
       "deviance 607732.4 481.8 607400.0 607500.0 607600.0 607700.0 609452.5\n",
       "\n",
       "DIC info (using the rule, pD = var(deviance)/2)\n",
       "pD = 116047.2 and DIC = 723779.6\n",
       "DIC is an estimate of expected predictive error (lower deviance is better)."
      ]
     },
     "metadata": {},
     "output_type": "display_data"
    },
    {
     "data": {
      "text/html": [
       "<table>\n",
       "<caption>A matrix: 7 × 2</caption>\n",
       "<tbody>\n",
       "\t<tr><th scope=row>beta</th><td>0.041714340, -0.004982019, 0.009232336</td><td>0.001696894, 0.001524649, 0.001451110</td></tr>\n",
       "\t<tr><th scope=row>nu1</th><td>2.5889880, 0.1354806, -0.1198881, -0.0374774</td><td>0.04298235, 0.01668115, 0.04555743, 0.03633449</td></tr>\n",
       "\t<tr><th scope=row>nu2</th><td>0.22385400, -0.04122352, 0.03547008, -0.01845796</td><td>0.021486553, 0.005627471, 0.016186739, 0.009609200</td></tr>\n",
       "\t<tr><th scope=row>sig_u</th><td>0.1123609</td><td>0.01046733</td></tr>\n",
       "\t<tr><th scope=row>sig_a</th><td>0.07563312</td><td>0.01454196</td></tr>\n",
       "\t<tr><th scope=row>b</th><td>0.2790798</td><td>0.001339822</td></tr>\n",
       "\t<tr><th scope=row>deviance</th><td>607732.4</td><td>481.7618</td></tr>\n",
       "</tbody>\n",
       "</table>\n"
      ],
      "text/latex": [
       "A matrix: 7 × 2\n",
       "\\begin{tabular}{r|ll}\n",
       "\tbeta & 0.041714340, -0.004982019, 0.009232336 & 0.001696894, 0.001524649, 0.001451110\\\\\n",
       "\tnu1 & 2.5889880, 0.1354806, -0.1198881, -0.0374774 & 0.04298235, 0.01668115, 0.04555743, 0.03633449\\\\\n",
       "\tnu2 & 0.22385400, -0.04122352, 0.03547008, -0.01845796 & 0.021486553, 0.005627471, 0.016186739, 0.009609200\\\\\n",
       "\tsig\\_u & 0.1123609 & 0.01046733\\\\\n",
       "\tsig\\_a & 0.07563312 & 0.01454196\\\\\n",
       "\tb & 0.2790798 & 0.001339822\\\\\n",
       "\tdeviance & 607732.4 & 481.7618\\\\\n",
       "\\end{tabular}\n"
      ],
      "text/markdown": [
       "\n",
       "A matrix: 7 × 2\n",
       "\n",
       "| beta | 0.041714340, -0.004982019, 0.009232336 | 0.001696894, 0.001524649, 0.001451110 |\n",
       "| nu1 | 2.5889880, 0.1354806, -0.1198881, -0.0374774 | 0.04298235, 0.01668115, 0.04555743, 0.03633449 |\n",
       "| nu2 | 0.22385400, -0.04122352, 0.03547008, -0.01845796 | 0.021486553, 0.005627471, 0.016186739, 0.009609200 |\n",
       "| sig_u | 0.1123609 | 0.01046733 |\n",
       "| sig_a | 0.07563312 | 0.01454196 |\n",
       "| b | 0.2790798 | 0.001339822 |\n",
       "| deviance | 607732.4 | 481.7618 |\n",
       "\n"
      ],
      "text/plain": [
       "         [,1]                                            \n",
       "beta     0.041714340, -0.004982019, 0.009232336          \n",
       "nu1      2.5889880, 0.1354806, -0.1198881, -0.0374774    \n",
       "nu2      0.22385400, -0.04122352, 0.03547008, -0.01845796\n",
       "sig_u    0.1123609                                       \n",
       "sig_a    0.07563312                                      \n",
       "b        0.2790798                                       \n",
       "deviance 607732.4                                        \n",
       "         [,2]                                              \n",
       "beta     0.001696894, 0.001524649, 0.001451110             \n",
       "nu1      0.04298235, 0.01668115, 0.04555743, 0.03633449    \n",
       "nu2      0.021486553, 0.005627471, 0.016186739, 0.009609200\n",
       "sig_u    0.01046733                                        \n",
       "sig_a    0.01454196                                        \n",
       "b        0.001339822                                       \n",
       "deviance 481.7618                                          "
      ]
     },
     "metadata": {},
     "output_type": "display_data"
    }
   ],
   "source": [
    "sim\n",
    "\n",
    "cbind(sim$mean, sim$sd)"
   ]
  },
  {
   "cell_type": "markdown",
   "metadata": {},
   "source": [
    "Findings:\n",
    "\n",
    "1. Based on the DIC figure, the multi-level model which uses the second-level features is statistically more appropriate, when compared with the base model.\n",
    "2. Similar to the base model, the (intercept) coefficient of distance between seller and customer is the largest in magnitude when compared with other features, which indicates that the distance effect is the strongest feature here.\n",
    "3. For the second-level feature, both GDP rank and the latitude of cities are considered significant features here, but the distance2wealthy feature is not significant. This is aline with my observation in the EDA."
   ]
  }
 ],
 "metadata": {
  "kernelspec": {
   "display_name": "R",
   "language": "R",
   "name": "ir"
  },
  "language_info": {
   "codemirror_mode": "r",
   "file_extension": ".r",
   "mimetype": "text/x-r-source",
   "name": "R",
   "pygments_lexer": "r",
   "version": "3.5.1"
  }
 },
 "nbformat": 4,
 "nbformat_minor": 2
}
