{
 "cells": [
  {
   "cell_type": "code",
   "execution_count": null,
   "metadata": {},
   "outputs": [],
   "source": [
    "library(lme4)\n",
    "library(readr)\n",
    "\n",
    "setwd(\"C:/Users/s1155063404/Desktop/Projects/brazilian-ecommerce-dataset/StatisticalAnalysis\")\n",
    "\n",
    "dataset = read_csv(\"./dataset.csv\")\n",
    "\n",
    "#Standardize the observations for modeling\n",
    "standardize <- function(x){\n",
    "  mean_x = mean(x)\n",
    "  sig_x = sqrt(var(x))\n",
    "  if (sig_x > 0){\n",
    "    return((x - mean_x) / sig_x)\n",
    "  }\n",
    "  else {\n",
    "    return(x)\n",
    "  }\n",
    "}\n",
    "\n",
    "dataset$size = standardize(dataset$size)\n",
    "dataset$order_products_value = standardize(dataset$order_products_value)\n",
    "dataset$order_freight_value = standardize(dataset$order_freight_value)\n",
    "dataset$distance = standardize(dataset$distance)"
   ]
  },
  {
   "cell_type": "markdown",
   "metadata": {},
   "source": [
    "## Statistical Modelling:\n",
    "Hypothesis: There is correlation for delivery time of the customers within same city\n",
    "\n",
    "Proposed modeling: GLM (base model) vs GLMM (which assumes correlation for observations within city)\n",
    "\n",
    "Remark: I do not use any features of the location of the customer in this modeling. I analyze the effect of location in analysis2."
   ]
  },
  {
   "cell_type": "code",
   "execution_count": 2,
   "metadata": {},
   "outputs": [
    {
     "name": "stderr",
     "output_type": "stream",
     "text": [
      "Warning message in checkConv(attr(opt, \"derivs\"), opt$par, ctrl = control$checkConv, :\n",
      "\"Model failed to converge with max|grad| = 0.00430913 (tol = 0.001, component 1)\""
     ]
    },
    {
     "data": {
      "text/plain": [
       "Generalized linear mixed model fit by maximum likelihood (Laplace\n",
       "  Approximation) [glmerMod]\n",
       " Family: Gamma  ( log )\n",
       "Formula: delivery_time ~ size + order_products_value + order_freight_value +  \n",
       "    distance + (1 + distance | cluster)\n",
       "   Data: dataset\n",
       "\n",
       "      AIC       BIC    logLik  deviance  df.resid \n",
       " 608457.9  608543.1 -304220.0  608439.9     95190 \n",
       "\n",
       "Scaled residuals: \n",
       "   Min     1Q Median     3Q    Max \n",
       "-1.470 -0.591 -0.222  0.310 32.396 \n",
       "\n",
       "Random effects:\n",
       " Groups   Name        Variance Std.Dev. Corr \n",
       " cluster  (Intercept) 0.03026  0.1740        \n",
       "          distance    0.01928  0.1389   -0.39\n",
       " Residual             0.42935  0.6552        \n",
       "Number of obs: 95199, groups:  cluster, 4030\n",
       "\n",
       "Fixed effects:\n",
       "                     Estimate Std. Error t value Pr(>|z|)    \n",
       "(Intercept)          2.583320   0.006171 418.649  < 2e-16 ***\n",
       "size                 0.055366   0.002203  25.135  < 2e-16 ***\n",
       "order_products_value 0.003849   0.001988   1.936   0.0528 .  \n",
       "order_freight_value  0.017039   0.002557   6.663 2.67e-11 ***\n",
       "distance             0.205361   0.005554  36.977  < 2e-16 ***\n",
       "---\n",
       "Signif. codes:  0 '***' 0.001 '**' 0.01 '*' 0.05 '.' 0.1 ' ' 1\n",
       "\n",
       "Correlation of Fixed Effects:\n",
       "            (Intr) size   ordr_p_ ordr_f_\n",
       "size         0.010                       \n",
       "ordr_prdct_  0.004 -0.061                \n",
       "ordr_frght_ -0.020 -0.494 -0.302         \n",
       "distance    -0.380  0.080  0.018  -0.143 \n",
       "convergence code: 0\n",
       "Model failed to converge with max|grad| = 0.00430913 (tol = 0.001, component 1)\n"
      ]
     },
     "metadata": {},
     "output_type": "display_data"
    }
   ],
   "source": [
    "#GLMM\n",
    "fit = glmer(delivery_time ~ size + order_products_value + order_freight_value +\n",
    "              distance + (1 + distance | cluster), \n",
    "            data = dataset, family=Gamma(link=\"log\"))\n",
    "\n",
    "summary(fit)"
   ]
  },
  {
   "cell_type": "code",
   "execution_count": 3,
   "metadata": {},
   "outputs": [
    {
     "data": {
      "text/plain": [
       "\n",
       "Call:\n",
       "glm(formula = delivery_time ~ size + order_products_value + order_freight_value + \n",
       "    distance, family = Gamma(link = \"log\"), data = dataset)\n",
       "\n",
       "Deviance Residuals: \n",
       "    Min       1Q   Median       3Q      Max  \n",
       "-2.3975  -0.4888  -0.1689   0.1990   5.5254  \n",
       "\n",
       "Coefficients:\n",
       "                     Estimate Std. Error  t value Pr(>|t|)    \n",
       "(Intercept)          2.505396   0.002270 1103.477   <2e-16 ***\n",
       "size                 0.042392   0.002702   15.691   <2e-16 ***\n",
       "order_products_value 0.001857   0.002498    0.744    0.457    \n",
       "order_freight_value  0.041792   0.002994   13.959   <2e-16 ***\n",
       "distance             0.262885   0.002452  107.212   <2e-16 ***\n",
       "---\n",
       "Signif. codes:  0 '***' 0.001 '**' 0.01 '*' 0.05 '.' 0.1 ' ' 1\n",
       "\n",
       "(Dispersion parameter for Gamma family taken to be 0.4907483)\n",
       "\n",
       "    Null deviance: 40696  on 95198  degrees of freedom\n",
       "Residual deviance: 33320  on 95194  degrees of freedom\n",
       "AIC: 619468\n",
       "\n",
       "Number of Fisher Scoring iterations: 5\n"
      ]
     },
     "metadata": {},
     "output_type": "display_data"
    }
   ],
   "source": [
    "#GLM\n",
    "base = glm(delivery_time ~ size + order_products_value + order_freight_value + distance,\n",
    "           data = dataset, family=Gamma(link=\"log\"))\n",
    "\n",
    "summary(base)"
   ]
  },
  {
   "cell_type": "markdown",
   "metadata": {},
   "source": [
    "Findings: \n",
    "1. GLMM is statistically more appropriate based on AIC score, which support my Hypothesis.\n",
    "2. The distance, size and the order_freight_value are positively related to the delivery time and are significant, while order_products_value is less significant.\n",
    "3. The coefficient of distance is the largest in magnitude, which means the effect of distance on delivery time is the strongest.\n"
   ]
  }
 ],
 "metadata": {
  "kernelspec": {
   "display_name": "R",
   "language": "R",
   "name": "ir"
  },
  "language_info": {
   "codemirror_mode": "r",
   "file_extension": ".r",
   "mimetype": "text/x-r-source",
   "name": "R",
   "pygments_lexer": "r",
   "version": "3.5.1"
  }
 },
 "nbformat": 4,
 "nbformat_minor": 2
}
