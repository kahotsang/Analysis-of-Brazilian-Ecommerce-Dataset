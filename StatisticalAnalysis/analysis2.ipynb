{
 "cells": [
  {
   "cell_type": "markdown",
   "metadata": {},
   "source": [
    "## Objective\n",
    "\n",
    "To analyze the second-level effect, on how the location of customer city affects the delivery time\n",
    "\n",
    "Modeling: multi-level GLMM (with the use of some location features of customer cities as the second-level features).\n",
    "This model is then compared with the base model (GLMM as proposed in analysis1)."
   ]
  },
  {
   "cell_type": "code",
   "execution_count": null,
   "metadata": {},
   "outputs": [],
   "source": [
    "library(R2WinBUGS)\n",
    "library(dplyr)\n",
    "library(readr)\n",
    "\n",
    "#The directory of the WinBUGS\n",
    "WinBUGS_path = \"C:/Users/Ka Ho/Desktop/WinBUGS14/\"\n",
    "\n",
    "#Working directory\n",
    "working_dir = \"C:/Users/Ka Ho/Desktop/Projects/Analysis-of-Brazilian-Ecommerce-Dataset/StatisticalAnalysis\"\n",
    "\n",
    "setwd(working_dir)\n",
    "dataset = read_csv(\"./dataset.csv\")\n",
    "\n",
    "#Standardize the observations for modeling\n",
    "standardize <- function(x){\n",
    "  mean_x = mean(x)\n",
    "  sig_x = sqrt(var(x))\n",
    "  if (sig_x > 0){\n",
    "    return((x - mean_x) / sig_x)\n",
    "  }\n",
    "  else {\n",
    "    return(x)\n",
    "  }\n",
    "}\n",
    "\n",
    "dataset$size = standardize(dataset$size)\n",
    "dataset$order_products_value = standardize(dataset$order_products_value)\n",
    "dataset$order_freight_value = standardize(dataset$order_freight_value)\n",
    "dataset$distance = standardize(dataset$distance)"
   ]
  },
  {
   "cell_type": "markdown",
   "metadata": {},
   "source": [
    "As I perform Bayesian Inference for the multi-level model, to have a fair comparison with the base model, I first perform Bayesian Inference for the base model."
   ]
  },
  {
   "cell_type": "code",
   "execution_count": 2,
   "metadata": {},
   "outputs": [
    {
     "data": {
      "text/html": [
       "'data_base.txt'"
      ],
      "text/latex": [
       "'data\\_base.txt'"
      ],
      "text/markdown": [
       "'data_base.txt'"
      ],
      "text/plain": [
       "[1] \"data_base.txt\""
      ]
     },
     "metadata": {},
     "output_type": "display_data"
    }
   ],
   "source": [
    "#Base model: Prepare the data, initial parameter for WinBUGS\n",
    "K = nrow(dataset)\n",
    "n_clust = length(unique(dataset$cluster))\n",
    "Y = dataset$delivery_time\n",
    "X = cbind(dataset$size, dataset$order_products_value, dataset$order_freight_value)\n",
    "Z = dataset$distance\n",
    "i = dataset$cluster\n",
    "\n",
    "mu_b = rep(0, 3)\n",
    "tau_b = diag(rep(0.0001, 3))\n",
    "\n",
    "data = list(K=K, n_clust=n_clust, Y=Y, X=X, Z=Z, mu_b=mu_b, tau_b=tau_b, i=i)\n",
    "bugs.data(data, dir=\"../WinBUGS_code/\", data.file = \"data_base.txt\")\n",
    "\n",
    "init = list(beta=rep(0,3), m1=0, m2=0, tau_a=10, tau_u=10, b=0.5)\n",
    "para = c(\"m1\", \"beta\", \"m2\", \"sig_u\", \"sig_a\", \"b\")"
   ]
  },
  {
   "cell_type": "code",
   "execution_count": 4,
   "metadata": {},
   "outputs": [],
   "source": [
    "sim = bugs(data=\"data_base.txt\", inits=list(init),\n",
    "           parameters.to.save=para,\n",
    "           model.file=\"base.txt\",\n",
    "           n.chains=1, n.iter=1000,\n",
    "           bugs.directory = WinBUGS_path,\n",
    "           working.directory=\"../WinBUGS_code/\")"
   ]
  },
  {
   "cell_type": "code",
   "execution_count": 9,
   "metadata": {},
   "outputs": [
    {
     "data": {
      "text/plain": [
       "Inference for Bugs model at \"base.txt\", fit using WinBUGS,\n",
       " 1 chains, each with 1000 iterations (first 500 discarded)\n",
       " n.sims = 500 iterations saved\n",
       "             mean      sd     2.5%      25%      50%      75%    97.5%\n",
       "m1            0.3     0.1      0.2      0.3      0.3      0.4      0.4\n",
       "beta[1]       0.0     0.0      0.0      0.0      0.0      0.0      0.0\n",
       "beta[2]       0.0     0.0      0.0      0.0      0.0      0.0      0.0\n",
       "beta[3]       0.0     0.0      0.0      0.0      0.0      0.0      0.0\n",
       "m2            0.1     0.0      0.0      0.0      0.1      0.1      0.1\n",
       "sig_u         0.6     0.1      0.5      0.5      0.6      0.6      0.6\n",
       "sig_a         0.4     0.0      0.4      0.4      0.4      0.5      0.5\n",
       "b             0.1     0.0      0.1      0.1      0.1      0.2      0.2\n",
       "deviance 743168.8 23975.9 711400.0 722000.0 739000.0 761850.0 790962.5\n",
       "\n",
       "DIC info (using the rule, pD = Dbar-Dhat)\n",
       "pD = 2972.4 and DIC = 746141.0\n",
       "DIC is an estimate of expected predictive error (lower deviance is better)."
      ]
     },
     "metadata": {},
     "output_type": "display_data"
    },
    {
     "data": {
      "text/html": [
       "<table>\n",
       "<caption>A matrix: 7 × 2</caption>\n",
       "<tbody>\n",
       "\t<tr><th scope=row>m1</th><td>0.3358378</td><td>0.05993527</td></tr>\n",
       "\t<tr><th scope=row>beta</th><td>0.03887712, -0.01695028, 0.03059388</td><td>0.002505872, 0.005012632, 0.003737089</td></tr>\n",
       "\t<tr><th scope=row>m2</th><td>0.06365648</td><td>0.0182579</td></tr>\n",
       "\t<tr><th scope=row>sig_u</th><td>0.562332</td><td>0.05422203</td></tr>\n",
       "\t<tr><th scope=row>sig_a</th><td>0.4428546</td><td>0.016783</td></tr>\n",
       "\t<tr><th scope=row>b</th><td>0.147537</td><td>0.01080099</td></tr>\n",
       "\t<tr><th scope=row>deviance</th><td>743168.8</td><td>23975.89</td></tr>\n",
       "</tbody>\n",
       "</table>\n"
      ],
      "text/latex": [
       "A matrix: 7 × 2\n",
       "\\begin{tabular}{r|ll}\n",
       "\tm1 & 0.3358378 & 0.05993527\\\\\n",
       "\tbeta & 0.03887712, -0.01695028, 0.03059388 & 0.002505872, 0.005012632, 0.003737089\\\\\n",
       "\tm2 & 0.06365648 & 0.0182579\\\\\n",
       "\tsig\\_u & 0.562332 & 0.05422203\\\\\n",
       "\tsig\\_a & 0.4428546 & 0.016783\\\\\n",
       "\tb & 0.147537 & 0.01080099\\\\\n",
       "\tdeviance & 743168.8 & 23975.89\\\\\n",
       "\\end{tabular}\n"
      ],
      "text/markdown": [
       "\n",
       "A matrix: 7 × 2\n",
       "\n",
       "| m1 | 0.3358378 | 0.05993527 |\n",
       "| beta | 0.03887712, -0.01695028, 0.03059388 | 0.002505872, 0.005012632, 0.003737089 |\n",
       "| m2 | 0.06365648 | 0.0182579 |\n",
       "| sig_u | 0.562332 | 0.05422203 |\n",
       "| sig_a | 0.4428546 | 0.016783 |\n",
       "| b | 0.147537 | 0.01080099 |\n",
       "| deviance | 743168.8 | 23975.89 |\n",
       "\n"
      ],
      "text/plain": [
       "         [,1]                               \n",
       "m1       0.3358378                          \n",
       "beta     0.03887712, -0.01695028, 0.03059388\n",
       "m2       0.06365648                         \n",
       "sig_u    0.562332                           \n",
       "sig_a    0.4428546                          \n",
       "b        0.147537                           \n",
       "deviance 743168.8                           \n",
       "         [,2]                                 \n",
       "m1       0.05993527                           \n",
       "beta     0.002505872, 0.005012632, 0.003737089\n",
       "m2       0.0182579                            \n",
       "sig_u    0.05422203                           \n",
       "sig_a    0.016783                             \n",
       "b        0.01080099                           \n",
       "deviance 23975.89                             "
      ]
     },
     "metadata": {},
     "output_type": "display_data"
    }
   ],
   "source": [
    "sim\n",
    "\n",
    "cbind(sim$mean, sim$sd)"
   ]
  },
  {
   "cell_type": "code",
   "execution_count": null,
   "metadata": {},
   "outputs": [],
   "source": []
  },
  {
   "cell_type": "code",
   "execution_count": null,
   "metadata": {},
   "outputs": [],
   "source": []
  }
 ],
 "metadata": {
  "kernelspec": {
   "display_name": "R",
   "language": "R",
   "name": "ir"
  },
  "language_info": {
   "codemirror_mode": "r",
   "file_extension": ".r",
   "mimetype": "text/x-r-source",
   "name": "R",
   "pygments_lexer": "r",
   "version": "3.5.1"
  }
 },
 "nbformat": 4,
 "nbformat_minor": 2
}
